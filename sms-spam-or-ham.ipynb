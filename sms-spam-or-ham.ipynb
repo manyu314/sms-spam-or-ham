{
 "cells": [
  {
   "cell_type": "code",
   "execution_count": 1,
   "metadata": {
    "_cell_guid": "b1076dfc-b9ad-4769-8c92-a6c4dae69d19",
    "_uuid": "8f2839f25d086af736a60e9eeb907d3b93b6e0e5",
    "execution": {
     "iopub.execute_input": "2021-06-22T19:56:02.469189Z",
     "iopub.status.busy": "2021-06-22T19:56:02.467678Z",
     "iopub.status.idle": "2021-06-22T19:56:03.235969Z",
     "shell.execute_reply": "2021-06-22T19:56:03.236490Z",
     "shell.execute_reply.started": "2021-06-22T19:27:03.568672Z"
    },
    "papermill": {
     "duration": 0.80366,
     "end_time": "2021-06-22T19:56:03.236816",
     "exception": false,
     "start_time": "2021-06-22T19:56:02.433156",
     "status": "completed"
    },
    "tags": []
   },
   "outputs": [],
   "source": [
    "import numpy as np # linear algebra\n",
    "import pandas as pd # data processing, CSV file I/O (e.g. pd.read_csv)\n",
    "\n",
    "# visualization\n",
    "import seaborn as sns\n",
    "import matplotlib.pyplot as plt"
   ]
  },
  {
   "cell_type": "code",
   "execution_count": 2,
   "metadata": {
    "execution": {
     "iopub.execute_input": "2021-06-22T19:56:03.307909Z",
     "iopub.status.busy": "2021-06-22T19:56:03.307352Z",
     "iopub.status.idle": "2021-06-22T19:56:03.338784Z",
     "shell.execute_reply": "2021-06-22T19:56:03.337963Z",
     "shell.execute_reply.started": "2021-06-22T19:27:04.568191Z"
    },
    "papermill": {
     "duration": 0.062745,
     "end_time": "2021-06-22T19:56:03.338947",
     "exception": false,
     "start_time": "2021-06-22T19:56:03.276202",
     "status": "completed"
    },
    "tags": []
   },
   "outputs": [],
   "source": [
    "# Getting the sms data\n",
    "sms = pd.read_csv('spam.csv',encoding='latin-1')"
   ]
  },
  {
   "cell_type": "code",
   "execution_count": 3,
   "metadata": {
    "execution": {
     "iopub.execute_input": "2021-06-22T19:56:03.405850Z",
     "iopub.status.busy": "2021-06-22T19:56:03.404870Z",
     "iopub.status.idle": "2021-06-22T19:56:03.423236Z",
     "shell.execute_reply": "2021-06-22T19:56:03.423866Z",
     "shell.execute_reply.started": "2021-06-22T19:27:04.610557Z"
    },
    "papermill": {
     "duration": 0.059466,
     "end_time": "2021-06-22T19:56:03.424074",
     "exception": false,
     "start_time": "2021-06-22T19:56:03.364608",
     "status": "completed"
    },
    "tags": []
   },
   "outputs": [
    {
     "data": {
      "text/html": [
       "<div>\n",
       "<style scoped>\n",
       "    .dataframe tbody tr th:only-of-type {\n",
       "        vertical-align: middle;\n",
       "    }\n",
       "\n",
       "    .dataframe tbody tr th {\n",
       "        vertical-align: top;\n",
       "    }\n",
       "\n",
       "    .dataframe thead th {\n",
       "        text-align: right;\n",
       "    }\n",
       "</style>\n",
       "<table border=\"1\" class=\"dataframe\">\n",
       "  <thead>\n",
       "    <tr style=\"text-align: right;\">\n",
       "      <th></th>\n",
       "      <th>v1</th>\n",
       "      <th>v2</th>\n",
       "      <th>Unnamed: 2</th>\n",
       "      <th>Unnamed: 3</th>\n",
       "      <th>Unnamed: 4</th>\n",
       "    </tr>\n",
       "  </thead>\n",
       "  <tbody>\n",
       "    <tr>\n",
       "      <th>0</th>\n",
       "      <td>ham</td>\n",
       "      <td>Go until jurong point, crazy.. Available only ...</td>\n",
       "      <td>NaN</td>\n",
       "      <td>NaN</td>\n",
       "      <td>NaN</td>\n",
       "    </tr>\n",
       "    <tr>\n",
       "      <th>1</th>\n",
       "      <td>ham</td>\n",
       "      <td>Ok lar... Joking wif u oni...</td>\n",
       "      <td>NaN</td>\n",
       "      <td>NaN</td>\n",
       "      <td>NaN</td>\n",
       "    </tr>\n",
       "    <tr>\n",
       "      <th>2</th>\n",
       "      <td>spam</td>\n",
       "      <td>Free entry in 2 a wkly comp to win FA Cup fina...</td>\n",
       "      <td>NaN</td>\n",
       "      <td>NaN</td>\n",
       "      <td>NaN</td>\n",
       "    </tr>\n",
       "    <tr>\n",
       "      <th>3</th>\n",
       "      <td>ham</td>\n",
       "      <td>U dun say so early hor... U c already then say...</td>\n",
       "      <td>NaN</td>\n",
       "      <td>NaN</td>\n",
       "      <td>NaN</td>\n",
       "    </tr>\n",
       "    <tr>\n",
       "      <th>4</th>\n",
       "      <td>ham</td>\n",
       "      <td>Nah I don't think he goes to usf, he lives aro...</td>\n",
       "      <td>NaN</td>\n",
       "      <td>NaN</td>\n",
       "      <td>NaN</td>\n",
       "    </tr>\n",
       "  </tbody>\n",
       "</table>\n",
       "</div>"
      ],
      "text/plain": [
       "     v1                                                 v2 Unnamed: 2  \\\n",
       "0   ham  Go until jurong point, crazy.. Available only ...        NaN   \n",
       "1   ham                      Ok lar... Joking wif u oni...        NaN   \n",
       "2  spam  Free entry in 2 a wkly comp to win FA Cup fina...        NaN   \n",
       "3   ham  U dun say so early hor... U c already then say...        NaN   \n",
       "4   ham  Nah I don't think he goes to usf, he lives aro...        NaN   \n",
       "\n",
       "  Unnamed: 3 Unnamed: 4  \n",
       "0        NaN        NaN  \n",
       "1        NaN        NaN  \n",
       "2        NaN        NaN  \n",
       "3        NaN        NaN  \n",
       "4        NaN        NaN  "
      ]
     },
     "execution_count": 3,
     "metadata": {},
     "output_type": "execute_result"
    }
   ],
   "source": [
    "sms.head()"
   ]
  },
  {
   "cell_type": "code",
   "execution_count": 4,
   "metadata": {
    "execution": {
     "iopub.execute_input": "2021-06-22T19:56:03.491040Z",
     "iopub.status.busy": "2021-06-22T19:56:03.490207Z",
     "iopub.status.idle": "2021-06-22T19:56:03.495074Z",
     "shell.execute_reply": "2021-06-22T19:56:03.495469Z",
     "shell.execute_reply.started": "2021-06-22T19:27:04.647364Z"
    },
    "papermill": {
     "duration": 0.036709,
     "end_time": "2021-06-22T19:56:03.495611",
     "exception": false,
     "start_time": "2021-06-22T19:56:03.458902",
     "status": "completed"
    },
    "tags": []
   },
   "outputs": [
    {
     "data": {
      "text/plain": [
       "Index(['v1', 'v2', 'Unnamed: 2', 'Unnamed: 3', 'Unnamed: 4'], dtype='object')"
      ]
     },
     "execution_count": 4,
     "metadata": {},
     "output_type": "execute_result"
    }
   ],
   "source": [
    "# Let's see the columns:\n",
    "sms.columns"
   ]
  },
  {
   "cell_type": "code",
   "execution_count": 5,
   "metadata": {
    "execution": {
     "iopub.execute_input": "2021-06-22T19:56:03.550544Z",
     "iopub.status.busy": "2021-06-22T19:56:03.550025Z",
     "iopub.status.idle": "2021-06-22T19:56:03.556061Z",
     "shell.execute_reply": "2021-06-22T19:56:03.556429Z",
     "shell.execute_reply.started": "2021-06-22T19:27:04.656274Z"
    },
    "papermill": {
     "duration": 0.034677,
     "end_time": "2021-06-22T19:56:03.556573",
     "exception": false,
     "start_time": "2021-06-22T19:56:03.521896",
     "status": "completed"
    },
    "tags": []
   },
   "outputs": [],
   "source": [
    "# Lets remove the unwanted columns:\n",
    "sms.drop(['Unnamed: 2', 'Unnamed: 3', 'Unnamed: 4'],axis = 1,inplace=True)"
   ]
  },
  {
   "cell_type": "code",
   "execution_count": 6,
   "metadata": {
    "execution": {
     "iopub.execute_input": "2021-06-22T19:56:03.615921Z",
     "iopub.status.busy": "2021-06-22T19:56:03.615369Z",
     "iopub.status.idle": "2021-06-22T19:56:03.617636Z",
     "shell.execute_reply": "2021-06-22T19:56:03.618022Z",
     "shell.execute_reply.started": "2021-06-22T19:27:04.674907Z"
    },
    "papermill": {
     "duration": 0.036183,
     "end_time": "2021-06-22T19:56:03.618171",
     "exception": false,
     "start_time": "2021-06-22T19:56:03.581988",
     "status": "completed"
    },
    "tags": []
   },
   "outputs": [
    {
     "data": {
      "text/html": [
       "<div>\n",
       "<style scoped>\n",
       "    .dataframe tbody tr th:only-of-type {\n",
       "        vertical-align: middle;\n",
       "    }\n",
       "\n",
       "    .dataframe tbody tr th {\n",
       "        vertical-align: top;\n",
       "    }\n",
       "\n",
       "    .dataframe thead th {\n",
       "        text-align: right;\n",
       "    }\n",
       "</style>\n",
       "<table border=\"1\" class=\"dataframe\">\n",
       "  <thead>\n",
       "    <tr style=\"text-align: right;\">\n",
       "      <th></th>\n",
       "      <th>label</th>\n",
       "      <th>message</th>\n",
       "    </tr>\n",
       "  </thead>\n",
       "  <tbody>\n",
       "    <tr>\n",
       "      <th>0</th>\n",
       "      <td>ham</td>\n",
       "      <td>Go until jurong point, crazy.. Available only ...</td>\n",
       "    </tr>\n",
       "    <tr>\n",
       "      <th>1</th>\n",
       "      <td>ham</td>\n",
       "      <td>Ok lar... Joking wif u oni...</td>\n",
       "    </tr>\n",
       "    <tr>\n",
       "      <th>2</th>\n",
       "      <td>spam</td>\n",
       "      <td>Free entry in 2 a wkly comp to win FA Cup fina...</td>\n",
       "    </tr>\n",
       "    <tr>\n",
       "      <th>3</th>\n",
       "      <td>ham</td>\n",
       "      <td>U dun say so early hor... U c already then say...</td>\n",
       "    </tr>\n",
       "    <tr>\n",
       "      <th>4</th>\n",
       "      <td>ham</td>\n",
       "      <td>Nah I don't think he goes to usf, he lives aro...</td>\n",
       "    </tr>\n",
       "  </tbody>\n",
       "</table>\n",
       "</div>"
      ],
      "text/plain": [
       "  label                                            message\n",
       "0   ham  Go until jurong point, crazy.. Available only ...\n",
       "1   ham                      Ok lar... Joking wif u oni...\n",
       "2  spam  Free entry in 2 a wkly comp to win FA Cup fina...\n",
       "3   ham  U dun say so early hor... U c already then say...\n",
       "4   ham  Nah I don't think he goes to usf, he lives aro..."
      ]
     },
     "execution_count": 6,
     "metadata": {},
     "output_type": "execute_result"
    }
   ],
   "source": [
    "# Lets change the v1 and v2 column into something meaningful\n",
    "# v1 can be renamed as label and v2 can be renamed message\n",
    "\n",
    "sms.columns = ['label','message']\n",
    "\n",
    "# lets check the first five rows\n",
    "sms.head()"
   ]
  },
  {
   "cell_type": "code",
   "execution_count": 7,
   "metadata": {
    "execution": {
     "iopub.execute_input": "2021-06-22T19:56:03.672188Z",
     "iopub.status.busy": "2021-06-22T19:56:03.671598Z",
     "iopub.status.idle": "2021-06-22T19:56:03.677576Z",
     "shell.execute_reply": "2021-06-22T19:56:03.677970Z",
     "shell.execute_reply.started": "2021-06-22T19:27:04.694879Z"
    },
    "papermill": {
     "duration": 0.034369,
     "end_time": "2021-06-22T19:56:03.678128",
     "exception": false,
     "start_time": "2021-06-22T19:56:03.643759",
     "status": "completed"
    },
    "tags": []
   },
   "outputs": [
    {
     "data": {
      "text/plain": [
       "label      0\n",
       "message    0\n",
       "dtype: int64"
      ]
     },
     "execution_count": 7,
     "metadata": {},
     "output_type": "execute_result"
    }
   ],
   "source": [
    "# Lets see if there is any null value \n",
    "sms.isnull().sum()"
   ]
  },
  {
   "cell_type": "markdown",
   "metadata": {
    "papermill": {
     "duration": 0.026169,
     "end_time": "2021-06-22T19:56:03.732117",
     "exception": false,
     "start_time": "2021-06-22T19:56:03.705948",
     "status": "completed"
    },
    "tags": []
   },
   "source": [
    "There are no null values present in the data"
   ]
  },
  {
   "cell_type": "code",
   "execution_count": 8,
   "metadata": {
    "execution": {
     "iopub.execute_input": "2021-06-22T19:56:03.787601Z",
     "iopub.status.busy": "2021-06-22T19:56:03.787056Z",
     "iopub.status.idle": "2021-06-22T19:56:03.797825Z",
     "shell.execute_reply": "2021-06-22T19:56:03.797188Z",
     "shell.execute_reply.started": "2021-06-22T19:27:04.717239Z"
    },
    "papermill": {
     "duration": 0.039651,
     "end_time": "2021-06-22T19:56:03.797985",
     "exception": false,
     "start_time": "2021-06-22T19:56:03.758334",
     "status": "completed"
    },
    "tags": []
   },
   "outputs": [
    {
     "name": "stdout",
     "output_type": "stream",
     "text": [
      "There are 0 empty string as message\n"
     ]
    }
   ],
   "source": [
    "# Lets see if there are any blank message i.e empty string as message\n",
    "empty = []\n",
    "\n",
    "for i,label,msg in sms.itertuples():\n",
    "    if type(sms)==str:\n",
    "        if sms.isspace():\n",
    "            empty.append(i)\n",
    "\n",
    "print(f\"There are {len(empty)} empty string as message\")"
   ]
  },
  {
   "cell_type": "code",
   "execution_count": 9,
   "metadata": {
    "execution": {
     "iopub.execute_input": "2021-06-22T19:56:03.858322Z",
     "iopub.status.busy": "2021-06-22T19:56:03.857486Z",
     "iopub.status.idle": "2021-06-22T19:56:03.982782Z",
     "shell.execute_reply": "2021-06-22T19:56:03.983172Z",
     "shell.execute_reply.started": "2021-06-22T19:27:04.740672Z"
    },
    "papermill": {
     "duration": 0.158478,
     "end_time": "2021-06-22T19:56:03.983331",
     "exception": false,
     "start_time": "2021-06-22T19:56:03.824853",
     "status": "completed"
    },
    "tags": []
   },
   "outputs": [
    {
     "name": "stdout",
     "output_type": "stream",
     "text": [
      "ham     4825\n",
      "spam     747\n",
      "Name: label, dtype: int64\n",
      "\n",
      "\n"
     ]
    },
    {
     "data": {
      "text/plain": [
       "<AxesSubplot:xlabel='label', ylabel='count'>"
      ]
     },
     "execution_count": 9,
     "metadata": {},
     "output_type": "execute_result"
    },
    {
     "data": {
      "image/png": "[encoded data removed]",
      "text/plain": [
       "<Figure size 432x288 with 1 Axes>"
      ]
     },
     "metadata": {
      "needs_background": "light"
     },
     "output_type": "display_data"
    }
   ],
   "source": [
    "# Number of ham and spam messages:\n",
    "print(sms['label'].value_counts())\n",
    "print('\\n')\n",
    "sns.countplot(x='label',data=sms)"
   ]
  },
  {
   "cell_type": "markdown",
   "metadata": {
    "papermill": {
     "duration": 0.026939,
     "end_time": "2021-06-22T19:56:04.037804",
     "exception": false,
     "start_time": "2021-06-22T19:56:04.010865",
     "status": "completed"
    },
    "tags": []
   },
   "source": [
    "**Lets check the length of each message and see if using length we can diffrentiate between ham and spam**"
   ]
  },
  {
   "cell_type": "code",
   "execution_count": 10,
   "metadata": {
    "execution": {
     "iopub.execute_input": "2021-06-22T19:56:04.100706Z",
     "iopub.status.busy": "2021-06-22T19:56:04.099862Z",
     "iopub.status.idle": "2021-06-22T19:56:04.106374Z",
     "shell.execute_reply": "2021-06-22T19:56:04.106729Z",
     "shell.execute_reply.started": "2021-06-22T19:27:04.946553Z"
    },
    "papermill": {
     "duration": 0.040509,
     "end_time": "2021-06-22T19:56:04.106905",
     "exception": false,
     "start_time": "2021-06-22T19:56:04.066396",
     "status": "completed"
    },
    "tags": []
   },
   "outputs": [
    {
     "data": {
      "text/html": [
       "<div>\n",
       "<style scoped>\n",
       "    .dataframe tbody tr th:only-of-type {\n",
       "        vertical-align: middle;\n",
       "    }\n",
       "\n",
       "    .dataframe tbody tr th {\n",
       "        vertical-align: top;\n",
       "    }\n",
       "\n",
       "    .dataframe thead th {\n",
       "        text-align: right;\n",
       "    }\n",
       "</style>\n",
       "<table border=\"1\" class=\"dataframe\">\n",
       "  <thead>\n",
       "    <tr style=\"text-align: right;\">\n",
       "      <th></th>\n",
       "      <th>label</th>\n",
       "      <th>message</th>\n",
       "      <th>length</th>\n",
       "    </tr>\n",
       "  </thead>\n",
       "  <tbody>\n",
       "    <tr>\n",
       "      <th>0</th>\n",
       "      <td>ham</td>\n",
       "      <td>Go until jurong point, crazy.. Available only ...</td>\n",
       "      <td>111</td>\n",
       "    </tr>\n",
       "    <tr>\n",
       "      <th>1</th>\n",
       "      <td>ham</td>\n",
       "      <td>Ok lar... Joking wif u oni...</td>\n",
       "      <td>29</td>\n",
       "    </tr>\n",
       "    <tr>\n",
       "      <th>2</th>\n",
       "      <td>spam</td>\n",
       "      <td>Free entry in 2 a wkly comp to win FA Cup fina...</td>\n",
       "      <td>155</td>\n",
       "    </tr>\n",
       "    <tr>\n",
       "      <th>3</th>\n",
       "      <td>ham</td>\n",
       "      <td>U dun say so early hor... U c already then say...</td>\n",
       "      <td>49</td>\n",
       "    </tr>\n",
       "    <tr>\n",
       "      <th>4</th>\n",
       "      <td>ham</td>\n",
       "      <td>Nah I don't think he goes to usf, he lives aro...</td>\n",
       "      <td>61</td>\n",
       "    </tr>\n",
       "  </tbody>\n",
       "</table>\n",
       "</div>"
      ],
      "text/plain": [
       "  label                                            message  length\n",
       "0   ham  Go until jurong point, crazy.. Available only ...     111\n",
       "1   ham                      Ok lar... Joking wif u oni...      29\n",
       "2  spam  Free entry in 2 a wkly comp to win FA Cup fina...     155\n",
       "3   ham  U dun say so early hor... U c already then say...      49\n",
       "4   ham  Nah I don't think he goes to usf, he lives aro...      61"
      ]
     },
     "execution_count": 10,
     "metadata": {},
     "output_type": "execute_result"
    }
   ],
   "source": [
    "# we will create a new column called : length\n",
    "sms['length'] = sms['message'].apply(len)\n",
    "\n",
    "# First five rows:\n",
    "sms.head()"
   ]
  },
  {
   "cell_type": "code",
   "execution_count": 11,
   "metadata": {
    "execution": {
     "iopub.execute_input": "2021-06-22T19:56:04.164857Z",
     "iopub.status.busy": "2021-06-22T19:56:04.164327Z",
     "iopub.status.idle": "2021-06-22T19:56:04.931681Z",
     "shell.execute_reply": "2021-06-22T19:56:04.931239Z",
     "shell.execute_reply.started": "2021-06-22T19:27:04.965592Z"
    },
    "papermill": {
     "duration": 0.797007,
     "end_time": "2021-06-22T19:56:04.931850",
     "exception": false,
     "start_time": "2021-06-22T19:56:04.134843",
     "status": "completed"
    },
    "tags": []
   },
   "outputs": [
    {
     "data": {
      "text/plain": [
       "<matplotlib.legend.Legend at 0x286ffee1b50>"
      ]
     },
     "execution_count": 11,
     "metadata": {},
     "output_type": "execute_result"
    },
    {
     "data": {
      "image/png": "[encoded data removed]",
      "text/plain": [
       "<Figure size 432x288 with 1 Axes>"
      ]
     },
     "metadata": {
      "needs_background": "light"
     },
     "output_type": "display_data"
    }
   ],
   "source": [
    "# Lets plot the length of the message\n",
    "\n",
    "plt.xscale('log')\n",
    "bins= 1.16**np.arange(1,50)\n",
    "\n",
    "sms[sms['label']=='ham']['length'].plot(kind='hist',bins=bins,alpha=0.8)\n",
    "sms[sms['label']=='spam']['length'].plot(kind='hist',bins=bins,alpha=0.8)\n",
    "\n",
    "plt.legend(['ham','spam'])"
   ]
  },
  {
   "cell_type": "markdown",
   "metadata": {
    "papermill": {
     "duration": 0.029136,
     "end_time": "2021-06-22T19:56:04.990519",
     "exception": false,
     "start_time": "2021-06-22T19:56:04.961383",
     "status": "completed"
    },
    "tags": []
   },
   "source": [
    "**Clearly, spam messges are longer in length as compared to ham messages**"
   ]
  },
  {
   "cell_type": "markdown",
   "metadata": {
    "papermill": {
     "duration": 0.028876,
     "end_time": "2021-06-22T19:56:05.048723",
     "exception": false,
     "start_time": "2021-06-22T19:56:05.019847",
     "status": "completed"
    },
    "tags": []
   },
   "source": [
    "# Data Cleaning"
   ]
  },
  {
   "cell_type": "markdown",
   "metadata": {
    "papermill": {
     "duration": 0.03541,
     "end_time": "2021-06-22T19:56:05.122001",
     "exception": false,
     "start_time": "2021-06-22T19:56:05.086591",
     "status": "completed"
    },
    "tags": []
   },
   "source": [
    "**Punctuation**"
   ]
  },
  {
   "cell_type": "code",
   "execution_count": 12,
   "metadata": {
    "execution": {
     "iopub.execute_input": "2021-06-22T19:56:05.198720Z",
     "iopub.status.busy": "2021-06-22T19:56:05.198072Z",
     "iopub.status.idle": "2021-06-22T19:56:05.202673Z",
     "shell.execute_reply": "2021-06-22T19:56:05.202052Z",
     "shell.execute_reply.started": "2021-06-22T19:27:06.165215Z"
    },
    "papermill": {
     "duration": 0.041291,
     "end_time": "2021-06-22T19:56:05.202857",
     "exception": false,
     "start_time": "2021-06-22T19:56:05.161566",
     "status": "completed"
    },
    "tags": []
   },
   "outputs": [
    {
     "name": "stdout",
     "output_type": "stream",
     "text": [
      "message before removing the punctuation:\n",
      "\n",
      "\n",
      "Go until jurong point, crazy.. Available only in bugis n great world la e buffet... Cine there got amore wat...\n",
      "\n",
      "\n",
      "message after removing the punctuation:\n",
      "\n",
      "Go until jurong point crazy Available only in bugis n great world la e buffet Cine there got amore wat\n"
     ]
    }
   ],
   "source": [
    "# Let's remove the punctuation\n",
    "import string\n",
    "\n",
    "# Function to remove the punctuation\n",
    "def remove_punct(text):\n",
    "    new_text = ''\n",
    "    for char in text:\n",
    "        if char in string.punctuation:\n",
    "            continue\n",
    "        else:\n",
    "            new_text += char\n",
    "    return new_text\n",
    "\n",
    "\n",
    "# applying the above function on single message to check if it works\n",
    "single_message = sms['message'][0]\n",
    "\n",
    "print('message before removing the punctuation:')\n",
    "print('\\n')\n",
    "print(single_message)\n",
    "print('\\n')\n",
    "print('message after removing the punctuation:')\n",
    "print()\n",
    "print(remove_punct(single_message))"
   ]
  },
  {
   "cell_type": "code",
   "execution_count": 13,
   "metadata": {
    "execution": {
     "iopub.execute_input": "2021-06-22T19:56:05.286151Z",
     "iopub.status.busy": "2021-06-22T19:56:05.281089Z",
     "iopub.status.idle": "2021-06-22T19:56:05.320010Z",
     "shell.execute_reply": "2021-06-22T19:56:05.320412Z",
     "shell.execute_reply.started": "2021-06-22T19:27:06.178931Z"
    },
    "papermill": {
     "duration": 0.087154,
     "end_time": "2021-06-22T19:56:05.320587",
     "exception": false,
     "start_time": "2021-06-22T19:56:05.233433",
     "status": "completed"
    },
    "tags": []
   },
   "outputs": [],
   "source": [
    "# Let's apply the above function to all the messages\n",
    "sms['message'] = sms['message'].apply(remove_punct)"
   ]
  },
  {
   "cell_type": "markdown",
   "metadata": {
    "papermill": {
     "duration": 0.029256,
     "end_time": "2021-06-22T19:56:05.379735",
     "exception": false,
     "start_time": "2021-06-22T19:56:05.350479",
     "status": "completed"
    },
    "tags": []
   },
   "source": [
    "**Stemming**"
   ]
  },
  {
   "cell_type": "code",
   "execution_count": 14,
   "metadata": {
    "execution": {
     "iopub.execute_input": "2021-06-22T19:56:05.441390Z",
     "iopub.status.busy": "2021-06-22T19:56:05.440871Z",
     "iopub.status.idle": "2021-06-22T19:56:06.164268Z",
     "shell.execute_reply": "2021-06-22T19:56:06.164651Z",
     "shell.execute_reply.started": "2021-06-22T19:27:06.283406Z"
    },
    "papermill": {
     "duration": 0.755644,
     "end_time": "2021-06-22T19:56:06.164827",
     "exception": false,
     "start_time": "2021-06-22T19:56:05.409183",
     "status": "completed"
    },
    "tags": []
   },
   "outputs": [
    {
     "name": "stdout",
     "output_type": "stream",
     "text": [
      "message before stemming:\n",
      "\n",
      "\n",
      "Nah I dont think he goes to usf he lives around here though\n",
      "\n",
      "\n",
      "message after stemming:\n",
      "\n",
      "['nah', 'I', 'dont', 'think', 'he', 'goe', 'to', 'usf', 'he', 'live', 'around', 'here', 'though']\n"
     ]
    }
   ],
   "source": [
    "# To perform stemming we will use Porterstemmer from nltk\n",
    "from nltk.stem.porter import PorterStemmer\n",
    "p_stemmer = PorterStemmer()\n",
    "\n",
    "# Function to do the stemming\n",
    "def stemming(text):\n",
    "    text = text.split(' ') # to seperate the words\n",
    "    text = [p_stemmer.stem(word) for word in text]\n",
    "    \n",
    "    return text\n",
    "    \n",
    "# Lets test it on single message\n",
    "single_message = sms['message'][4]\n",
    "\n",
    "print('message before stemming:')\n",
    "print('\\n')\n",
    "print(single_message)\n",
    "print('\\n')\n",
    "print('message after stemming:')\n",
    "print()\n",
    "print(stemming(single_message))"
   ]
  },
  {
   "cell_type": "markdown",
   "metadata": {
    "papermill": {
     "duration": 0.029048,
     "end_time": "2021-06-22T19:56:06.223937",
     "exception": false,
     "start_time": "2021-06-22T19:56:06.194889",
     "status": "completed"
    },
    "tags": []
   },
   "source": [
    "Check how 'goes' became 'goe' and 'lives' became 'live'. We will keep the message in the form of list for sometime. We will convert it back to text for creating the model"
   ]
  },
  {
   "cell_type": "code",
   "execution_count": 15,
   "metadata": {
    "execution": {
     "iopub.execute_input": "2021-06-22T19:56:06.284696Z",
     "iopub.status.busy": "2021-06-22T19:56:06.284131Z",
     "iopub.status.idle": "2021-06-22T19:56:07.466640Z",
     "shell.execute_reply": "2021-06-22T19:56:07.466161Z",
     "shell.execute_reply.started": "2021-06-22T19:27:07.235498Z"
    },
    "papermill": {
     "duration": 1.213861,
     "end_time": "2021-06-22T19:56:07.466796",
     "exception": false,
     "start_time": "2021-06-22T19:56:06.252935",
     "status": "completed"
    },
    "tags": []
   },
   "outputs": [],
   "source": [
    "# Let's apply the above function to all the messages\n",
    "sms['message'] = sms['message'].apply(stemming)"
   ]
  },
  {
   "cell_type": "markdown",
   "metadata": {
    "papermill": {
     "duration": 0.030865,
     "end_time": "2021-06-22T19:56:07.528338",
     "exception": false,
     "start_time": "2021-06-22T19:56:07.497473",
     "status": "completed"
    },
    "tags": []
   },
   "source": [
    "**Stopwords**"
   ]
  },
  {
   "cell_type": "code",
   "execution_count": 16,
   "metadata": {
    "execution": {
     "iopub.execute_input": "2021-06-22T19:56:07.593557Z",
     "iopub.status.busy": "2021-06-22T19:56:07.593022Z",
     "iopub.status.idle": "2021-06-22T19:56:07.618429Z",
     "shell.execute_reply": "2021-06-22T19:56:07.617688Z",
     "shell.execute_reply.started": "2021-06-22T19:27:09.178478Z"
    },
    "papermill": {
     "duration": 0.060555,
     "end_time": "2021-06-22T19:56:07.618637",
     "exception": false,
     "start_time": "2021-06-22T19:56:07.558082",
     "status": "completed"
    },
    "tags": []
   },
   "outputs": [
    {
     "name": "stdout",
     "output_type": "stream",
     "text": [
      "message before removing the stopwords:\n",
      "\n",
      "\n",
      "['nah', 'I', 'dont', 'think', 'he', 'goe', 'to', 'usf', 'he', 'live', 'around', 'here', 'though']\n",
      "\n",
      "\n",
      "message after removing the stopwords:\n",
      "\n",
      "nah I dont think goe usf live around though\n"
     ]
    }
   ],
   "source": [
    "# Stopwords can be is,are,the etc.\n",
    "# We will use stopword method from nltk corpus library\n",
    "from nltk.corpus import stopwords\n",
    "\n",
    "# function to remove the stopword\n",
    "def remove_stopwords(text):\n",
    "    text = [word for word in text if word not in stopwords.words('english')]\n",
    "    \n",
    "    # converting the list back to text\n",
    "    return ' '.join(text)\n",
    "\n",
    "# Let's test it on single message\n",
    "single_message = sms['message'][4]\n",
    "\n",
    "print('message before removing the stopwords:')\n",
    "print('\\n')\n",
    "print(single_message)\n",
    "print('\\n')\n",
    "print('message after removing the stopwords:')\n",
    "print()\n",
    "print(remove_stopwords(single_message))"
   ]
  },
  {
   "cell_type": "markdown",
   "metadata": {
    "papermill": {
     "duration": 0.030748,
     "end_time": "2021-06-22T19:56:07.681377",
     "exception": false,
     "start_time": "2021-06-22T19:56:07.650629",
     "status": "completed"
    },
    "tags": []
   },
   "source": [
    "**'he','here','to' are removed from the message.**"
   ]
  },
  {
   "cell_type": "code",
   "execution_count": 17,
   "metadata": {
    "execution": {
     "iopub.execute_input": "2021-06-22T19:56:07.748427Z",
     "iopub.status.busy": "2021-06-22T19:56:07.747889Z",
     "iopub.status.idle": "2021-06-22T19:56:16.450595Z",
     "shell.execute_reply": "2021-06-22T19:56:16.450085Z",
     "shell.execute_reply.started": "2021-06-22T19:27:09.213823Z"
    },
    "papermill": {
     "duration": 8.737549,
     "end_time": "2021-06-22T19:56:16.450729",
     "exception": false,
     "start_time": "2021-06-22T19:56:07.713180",
     "status": "completed"
    },
    "tags": []
   },
   "outputs": [],
   "source": [
    "# Let's apply the above function to all the messages\n",
    "sms['message'] = sms['message'].apply(remove_stopwords)"
   ]
  },
  {
   "cell_type": "markdown",
   "metadata": {
    "papermill": {
     "duration": 0.028752,
     "end_time": "2021-06-22T19:56:16.509236",
     "exception": false,
     "start_time": "2021-06-22T19:56:16.480484",
     "status": "completed"
    },
    "tags": []
   },
   "source": [
    "**Let's create a model.We will use navie_bayes,LinearSVC,logisticRegression to create and train our model and then compare the scores**"
   ]
  },
  {
   "cell_type": "code",
   "execution_count": 18,
   "metadata": {
    "execution": {
     "iopub.execute_input": "2021-06-22T19:56:16.572060Z",
     "iopub.status.busy": "2021-06-22T19:56:16.571456Z",
     "iopub.status.idle": "2021-06-22T19:56:16.578265Z",
     "shell.execute_reply": "2021-06-22T19:56:16.577829Z",
     "shell.execute_reply.started": "2021-06-22T19:27:19.599625Z"
    },
    "papermill": {
     "duration": 0.039983,
     "end_time": "2021-06-22T19:56:16.578386",
     "exception": false,
     "start_time": "2021-06-22T19:56:16.538403",
     "status": "completed"
    },
    "tags": []
   },
   "outputs": [],
   "source": [
    "# Libraries needed\n",
    "from sklearn.model_selection import train_test_split\n",
    "\n",
    "from sklearn.linear_model import LogisticRegression\n",
    "from sklearn.naive_bayes import MultinomialNB\n",
    "from sklearn.svm import LinearSVC\n",
    "\n",
    "from sklearn.feature_extraction.text import TfidfVectorizer\n",
    "\n",
    "from sklearn.pipeline import Pipeline\n",
    "\n",
    "from sklearn.metrics import accuracy_score,classification_report,confusion_matrix"
   ]
  },
  {
   "cell_type": "markdown",
   "metadata": {
    "papermill": {
     "duration": 0.028736,
     "end_time": "2021-06-22T19:56:16.636346",
     "exception": false,
     "start_time": "2021-06-22T19:56:16.607610",
     "status": "completed"
    },
    "tags": []
   },
   "source": [
    "**The TfidfVectorizer function create a sparse matrix of words and it's frequency. It then calculates the tf-idf features from this matrix.**"
   ]
  },
  {
   "cell_type": "code",
   "execution_count": 19,
   "metadata": {
    "execution": {
     "iopub.execute_input": "2021-06-22T19:56:16.698074Z",
     "iopub.status.busy": "2021-06-22T19:56:16.697266Z",
     "iopub.status.idle": "2021-06-22T19:56:16.705064Z",
     "shell.execute_reply": "2021-06-22T19:56:16.704611Z",
     "shell.execute_reply.started": "2021-06-22T19:27:19.614056Z"
    },
    "papermill": {
     "duration": 0.039577,
     "end_time": "2021-06-22T19:56:16.705188",
     "exception": false,
     "start_time": "2021-06-22T19:56:16.665611",
     "status": "completed"
    },
    "tags": []
   },
   "outputs": [],
   "source": [
    "# Let's divide the data into X and y\n",
    "\n",
    "X = sms['message']\n",
    "y = sms['label']\n",
    "\n",
    "# Let's perform the one hot encoding for y \n",
    "encoded_y = pd.get_dummies(y,drop_first=True).values.reshape(-1,)"
   ]
  },
  {
   "cell_type": "markdown",
   "metadata": {
    "papermill": {
     "duration": 0.028757,
     "end_time": "2021-06-22T19:56:16.764079",
     "exception": false,
     "start_time": "2021-06-22T19:56:16.735322",
     "status": "completed"
    },
    "tags": []
   },
   "source": [
    "**if y = 1 it is a spam message and if y = 0 it is a ham message**"
   ]
  },
  {
   "cell_type": "code",
   "execution_count": 20,
   "metadata": {
    "execution": {
     "iopub.execute_input": "2021-06-22T19:56:16.825626Z",
     "iopub.status.busy": "2021-06-22T19:56:16.824852Z",
     "iopub.status.idle": "2021-06-22T19:56:16.829906Z",
     "shell.execute_reply": "2021-06-22T19:56:16.830316Z",
     "shell.execute_reply.started": "2021-06-22T19:27:19.625047Z"
    },
    "papermill": {
     "duration": 0.037151,
     "end_time": "2021-06-22T19:56:16.830463",
     "exception": false,
     "start_time": "2021-06-22T19:56:16.793312",
     "status": "completed"
    },
    "tags": []
   },
   "outputs": [],
   "source": [
    "# Let's divide the data into train and test set. We will take 25% of data as test set\n",
    "X_train,X_test,y_train,y_test = train_test_split(X,encoded_y,test_size=0.25)"
   ]
  },
  {
   "cell_type": "markdown",
   "metadata": {
    "papermill": {
     "duration": 0.028949,
     "end_time": "2021-06-22T19:56:16.889167",
     "exception": false,
     "start_time": "2021-06-22T19:56:16.860218",
     "status": "completed"
    },
    "tags": []
   },
   "source": [
    "**Logistic Regression**"
   ]
  },
  {
   "cell_type": "code",
   "execution_count": 21,
   "metadata": {
    "execution": {
     "iopub.execute_input": "2021-06-22T19:56:16.990088Z",
     "iopub.status.busy": "2021-06-22T19:56:16.965453Z",
     "iopub.status.idle": "2021-06-22T19:56:17.088515Z",
     "shell.execute_reply": "2021-06-22T19:56:17.088957Z",
     "shell.execute_reply.started": "2021-06-22T19:27:19.638873Z"
    },
    "papermill": {
     "duration": 0.170628,
     "end_time": "2021-06-22T19:56:17.089114",
     "exception": false,
     "start_time": "2021-06-22T19:56:16.918486",
     "status": "completed"
    },
    "tags": []
   },
   "outputs": [
    {
     "data": {
      "text/plain": [
       "Pipeline(steps=[('vector', TfidfVectorizer()),\n",
       "                ('classifier', LogisticRegression())])"
      ]
     },
     "execution_count": 21,
     "metadata": {},
     "output_type": "execute_result"
    }
   ],
   "source": [
    "logistic = Pipeline([\n",
    "    ('vector',TfidfVectorizer()),\n",
    "    ('classifier',LogisticRegression())\n",
    "])\n",
    "\n",
    "logistic.fit(X_train,y_train)"
   ]
  },
  {
   "cell_type": "code",
   "execution_count": 22,
   "metadata": {
    "execution": {
     "iopub.execute_input": "2021-06-22T19:56:17.150318Z",
     "iopub.status.busy": "2021-06-22T19:56:17.149809Z",
     "iopub.status.idle": "2021-06-22T19:56:17.167018Z",
     "shell.execute_reply": "2021-06-22T19:56:17.167430Z",
     "shell.execute_reply.started": "2021-06-22T19:27:19.834280Z"
    },
    "papermill": {
     "duration": 0.049168,
     "end_time": "2021-06-22T19:56:17.167580",
     "exception": false,
     "start_time": "2021-06-22T19:56:17.118412",
     "status": "completed"
    },
    "tags": []
   },
   "outputs": [],
   "source": [
    "predict_log = logistic.predict(X_test)"
   ]
  },
  {
   "cell_type": "markdown",
   "metadata": {
    "papermill": {
     "duration": 0.028831,
     "end_time": "2021-06-22T19:56:17.225777",
     "exception": false,
     "start_time": "2021-06-22T19:56:17.196946",
     "status": "completed"
    },
    "tags": []
   },
   "source": [
    "Evaluation of Logistic Regression model"
   ]
  },
  {
   "cell_type": "code",
   "execution_count": 23,
   "metadata": {
    "execution": {
     "iopub.execute_input": "2021-06-22T19:56:17.287246Z",
     "iopub.status.busy": "2021-06-22T19:56:17.286753Z",
     "iopub.status.idle": "2021-06-22T19:56:17.493344Z",
     "shell.execute_reply": "2021-06-22T19:56:17.493830Z",
     "shell.execute_reply.started": "2021-06-22T19:34:53.288251Z"
    },
    "papermill": {
     "duration": 0.238484,
     "end_time": "2021-06-22T19:56:17.493982",
     "exception": false,
     "start_time": "2021-06-22T19:56:17.255498",
     "status": "completed"
    },
    "tags": []
   },
   "outputs": [
    {
     "name": "stdout",
     "output_type": "stream",
     "text": [
      "Accuracy of log model is 96.05%\n",
      "\n",
      "\n",
      "              precision    recall  f1-score   support\n",
      "\n",
      "           0       0.96      0.99      0.98      1201\n",
      "           1       0.94      0.76      0.84       192\n",
      "\n",
      "    accuracy                           0.96      1393\n",
      "   macro avg       0.95      0.88      0.91      1393\n",
      "weighted avg       0.96      0.96      0.96      1393\n",
      "\n",
      "\n",
      "\n"
     ]
    },
    {
     "data": {
      "text/plain": [
       "[Text(0, 0.5, 'ham'), Text(0, 1.5, 'spam')]"
      ]
     },
     "execution_count": 23,
     "metadata": {},
     "output_type": "execute_result"
    },
    {
     "data": {
      "image/png": "[encoded data removed]",
      "text/plain": [
       "<Figure size 432x288 with 2 Axes>"
      ]
     },
     "metadata": {
      "needs_background": "light"
     },
     "output_type": "display_data"
    }
   ],
   "source": [
    "acc_log = accuracy_score(y_test,predict_log)\n",
    "print(f\"Accuracy of log model is {np.round(acc_log*100,2)}%\")\n",
    "print('\\n')\n",
    "print(classification_report(y_test,predict_log))\n",
    "print('\\n')\n",
    "\n",
    "ax=plt.subplot()\n",
    "sns.heatmap(confusion_matrix(y_test,predict_log),annot = True,cmap='flare',fmt='g',ax=ax)\n",
    "\n",
    "ax.xaxis.set_ticklabels(['ham', 'spam'])\n",
    "ax.yaxis.set_ticklabels(['ham', 'spam'])"
   ]
  },
  {
   "cell_type": "markdown",
   "metadata": {
    "papermill": {
     "duration": 0.030057,
     "end_time": "2021-06-22T19:56:17.554132",
     "exception": false,
     "start_time": "2021-06-22T19:56:17.524075",
     "status": "completed"
    },
    "tags": []
   },
   "source": [
    "**Naive_Bayes**"
   ]
  },
  {
   "cell_type": "code",
   "execution_count": 24,
   "metadata": {
    "execution": {
     "iopub.execute_input": "2021-06-22T19:56:17.617219Z",
     "iopub.status.busy": "2021-06-22T19:56:17.616714Z",
     "iopub.status.idle": "2021-06-22T19:56:17.672515Z",
     "shell.execute_reply": "2021-06-22T19:56:17.672918Z",
     "shell.execute_reply.started": "2021-06-22T19:36:49.486105Z"
    },
    "papermill": {
     "duration": 0.088732,
     "end_time": "2021-06-22T19:56:17.673070",
     "exception": false,
     "start_time": "2021-06-22T19:56:17.584338",
     "status": "completed"
    },
    "tags": []
   },
   "outputs": [
    {
     "data": {
      "text/plain": [
       "Pipeline(steps=[('vector', TfidfVectorizer()), ('classifier', MultinomialNB())])"
      ]
     },
     "execution_count": 24,
     "metadata": {},
     "output_type": "execute_result"
    }
   ],
   "source": [
    "naive = Pipeline([\n",
    "    ('vector',TfidfVectorizer()),\n",
    "    ('classifier',MultinomialNB())\n",
    "])\n",
    "\n",
    "naive.fit(X_train,y_train)"
   ]
  },
  {
   "cell_type": "code",
   "execution_count": 25,
   "metadata": {
    "execution": {
     "iopub.execute_input": "2021-06-22T19:56:17.751097Z",
     "iopub.status.busy": "2021-06-22T19:56:17.750538Z",
     "iopub.status.idle": "2021-06-22T19:56:17.754573Z",
     "shell.execute_reply": "2021-06-22T19:56:17.754152Z",
     "shell.execute_reply.started": "2021-06-22T19:37:06.362493Z"
    },
    "papermill": {
     "duration": 0.05109,
     "end_time": "2021-06-22T19:56:17.754692",
     "exception": false,
     "start_time": "2021-06-22T19:56:17.703602",
     "status": "completed"
    },
    "tags": []
   },
   "outputs": [],
   "source": [
    "predict_naive = naive.predict(X_test)"
   ]
  },
  {
   "cell_type": "markdown",
   "metadata": {
    "papermill": {
     "duration": 0.03055,
     "end_time": "2021-06-22T19:56:17.815915",
     "exception": false,
     "start_time": "2021-06-22T19:56:17.785365",
     "status": "completed"
    },
    "tags": []
   },
   "source": [
    "Evaluation of Naive_Bayes model"
   ]
  },
  {
   "cell_type": "code",
   "execution_count": 26,
   "metadata": {
    "execution": {
     "iopub.execute_input": "2021-06-22T19:56:17.882891Z",
     "iopub.status.busy": "2021-06-22T19:56:17.882343Z",
     "iopub.status.idle": "2021-06-22T19:56:18.082812Z",
     "shell.execute_reply": "2021-06-22T19:56:18.082298Z",
     "shell.execute_reply.started": "2021-06-22T19:38:12.076135Z"
    },
    "papermill": {
     "duration": 0.236116,
     "end_time": "2021-06-22T19:56:18.082944",
     "exception": false,
     "start_time": "2021-06-22T19:56:17.846828",
     "status": "completed"
    },
    "tags": []
   },
   "outputs": [
    {
     "name": "stdout",
     "output_type": "stream",
     "text": [
      "Accuracy of naive model is 96.05%\n",
      "\n",
      "\n",
      "              precision    recall  f1-score   support\n",
      "\n",
      "           0       0.97      1.00      0.98      1201\n",
      "           1       1.00      0.79      0.88       192\n",
      "\n",
      "    accuracy                           0.97      1393\n",
      "   macro avg       0.98      0.90      0.93      1393\n",
      "weighted avg       0.97      0.97      0.97      1393\n",
      "\n",
      "\n",
      "\n"
     ]
    },
    {
     "data": {
      "text/plain": [
       "[Text(0, 0.5, 'ham'), Text(0, 1.5, 'spam')]"
      ]
     },
     "execution_count": 26,
     "metadata": {},
     "output_type": "execute_result"
    },
    {
     "data": {
      "image/png": "[encoded data removed]",
      "text/plain": [
       "<Figure size 432x288 with 2 Axes>"
      ]
     },
     "metadata": {
      "needs_background": "light"
     },
     "output_type": "display_data"
    }
   ],
   "source": [
    "acc_naive = accuracy_score(y_test,predict_log)\n",
    "print(f\"Accuracy of naive model is {np.round(acc_naive*100,2)}%\")\n",
    "print('\\n')\n",
    "print(classification_report(y_test,predict_naive))\n",
    "print('\\n')\n",
    "\n",
    "ax=plt.subplot()\n",
    "sns.heatmap(confusion_matrix(y_test,predict_naive),annot = True,cmap='flare',fmt='g',ax=ax)\n",
    "\n",
    "ax.xaxis.set_ticklabels(['ham', 'spam'])\n",
    "ax.yaxis.set_ticklabels(['ham', 'spam'])"
   ]
  },
  {
   "cell_type": "markdown",
   "metadata": {
    "papermill": {
     "duration": 0.031198,
     "end_time": "2021-06-22T19:56:18.145810",
     "exception": false,
     "start_time": "2021-06-22T19:56:18.114612",
     "status": "completed"
    },
    "tags": []
   },
   "source": [
    "**Linear SVC**"
   ]
  },
  {
   "cell_type": "code",
   "execution_count": 27,
   "metadata": {
    "execution": {
     "iopub.execute_input": "2021-06-22T19:56:18.243664Z",
     "iopub.status.busy": "2021-06-22T19:56:18.238413Z",
     "iopub.status.idle": "2021-06-22T19:56:18.278279Z",
     "shell.execute_reply": "2021-06-22T19:56:18.278671Z",
     "shell.execute_reply.started": "2021-06-22T19:39:56.163311Z"
    },
    "papermill": {
     "duration": 0.100167,
     "end_time": "2021-06-22T19:56:18.278846",
     "exception": false,
     "start_time": "2021-06-22T19:56:18.178679",
     "status": "completed"
    },
    "tags": []
   },
   "outputs": [
    {
     "data": {
      "text/plain": [
       "Pipeline(steps=[('vector', TfidfVectorizer()), ('classifier', LinearSVC())])"
      ]
     },
     "execution_count": 27,
     "metadata": {},
     "output_type": "execute_result"
    }
   ],
   "source": [
    "svc = Pipeline([\n",
    "    ('vector',TfidfVectorizer()),\n",
    "    ('classifier',LinearSVC())\n",
    "])\n",
    "\n",
    "svc.fit(X_train,y_train)"
   ]
  },
  {
   "cell_type": "code",
   "execution_count": 28,
   "metadata": {
    "execution": {
     "iopub.execute_input": "2021-06-22T19:56:18.359455Z",
     "iopub.status.busy": "2021-06-22T19:56:18.358906Z",
     "iopub.status.idle": "2021-06-22T19:56:18.363188Z",
     "shell.execute_reply": "2021-06-22T19:56:18.362762Z",
     "shell.execute_reply.started": "2021-06-22T19:40:16.132207Z"
    },
    "papermill": {
     "duration": 0.052736,
     "end_time": "2021-06-22T19:56:18.363315",
     "exception": false,
     "start_time": "2021-06-22T19:56:18.310579",
     "status": "completed"
    },
    "tags": []
   },
   "outputs": [],
   "source": [
    "predict_svc = svc.predict(X_test)"
   ]
  },
  {
   "cell_type": "markdown",
   "metadata": {
    "papermill": {
     "duration": 0.031939,
     "end_time": "2021-06-22T19:56:18.427307",
     "exception": false,
     "start_time": "2021-06-22T19:56:18.395368",
     "status": "completed"
    },
    "tags": []
   },
   "source": [
    "Evaluation of LinearSVC model"
   ]
  },
  {
   "cell_type": "code",
   "execution_count": 29,
   "metadata": {
    "execution": {
     "iopub.execute_input": "2021-06-22T19:56:18.496487Z",
     "iopub.status.busy": "2021-06-22T19:56:18.495967Z",
     "iopub.status.idle": "2021-06-22T19:56:18.687835Z",
     "shell.execute_reply": "2021-06-22T19:56:18.688226Z",
     "shell.execute_reply.started": "2021-06-22T19:43:11.951360Z"
    },
    "papermill": {
     "duration": 0.228997,
     "end_time": "2021-06-22T19:56:18.688386",
     "exception": false,
     "start_time": "2021-06-22T19:56:18.459389",
     "status": "completed"
    },
    "tags": []
   },
   "outputs": [
    {
     "name": "stdout",
     "output_type": "stream",
     "text": [
      "Accuracy of svc model is 98.56%\n",
      "\n",
      "\n",
      "              precision    recall  f1-score   support\n",
      "\n",
      "           0       0.99      1.00      0.99      1201\n",
      "           1       0.97      0.93      0.95       192\n",
      "\n",
      "    accuracy                           0.99      1393\n",
      "   macro avg       0.98      0.96      0.97      1393\n",
      "weighted avg       0.99      0.99      0.99      1393\n",
      "\n",
      "\n",
      "\n"
     ]
    },
    {
     "data": {
      "text/plain": [
       "[Text(0, 0.5, 'ham'), Text(0, 1.5, 'spam')]"
      ]
     },
     "execution_count": 29,
     "metadata": {},
     "output_type": "execute_result"
    },
    {
     "data": {
      "image/png": "[encoded data removed]",
      "text/plain": [
       "<Figure size 432x288 with 2 Axes>"
      ]
     },
     "metadata": {
      "needs_background": "light"
     },
     "output_type": "display_data"
    }
   ],
   "source": [
    "acc_svc = accuracy_score(y_test,predict_svc)\n",
    "print(f\"Accuracy of svc model is {np.round(acc_svc*100,2)}%\")\n",
    "print('\\n')\n",
    "print(classification_report(y_test,predict_svc))\n",
    "print('\\n')\n",
    "\n",
    "ax=plt.subplot()\n",
    "sns.heatmap(confusion_matrix(y_test,predict_svc),annot = True,cmap='flare',fmt='g',ax=ax)\n",
    "\n",
    "ax.xaxis.set_ticklabels(['ham', 'spam'])\n",
    "ax.yaxis.set_ticklabels(['ham', 'spam'])"
   ]
  },
  {
   "cell_type": "markdown",
   "metadata": {
    "papermill": {
     "duration": 0.033373,
     "end_time": "2021-06-22T19:56:18.754646",
     "exception": false,
     "start_time": "2021-06-22T19:56:18.721273",
     "status": "completed"
    },
    "tags": []
   },
   "source": [
    "**Let's compare the accuracy of all three models**"
   ]
  },
  {
   "cell_type": "code",
   "execution_count": 30,
   "metadata": {
    "execution": {
     "iopub.execute_input": "2021-06-22T19:56:18.822714Z",
     "iopub.status.busy": "2021-06-22T19:56:18.822199Z",
     "iopub.status.idle": "2021-06-22T19:56:18.919038Z",
     "shell.execute_reply": "2021-06-22T19:56:18.919434Z",
     "shell.execute_reply.started": "2021-06-22T19:48:18.327205Z"
    },
    "papermill": {
     "duration": 0.132053,
     "end_time": "2021-06-22T19:56:18.919588",
     "exception": false,
     "start_time": "2021-06-22T19:56:18.787535",
     "status": "completed"
    },
    "tags": []
   },
   "outputs": [
    {
     "data": {
      "text/plain": [
       "(0.9, 1.0)"
      ]
     },
     "execution_count": 30,
     "metadata": {},
     "output_type": "execute_result"
    },
    {
     "data": {
      "image/png": "[encoded data removed]",
      "text/plain": [
       "<Figure size 432x288 with 1 Axes>"
      ]
     },
     "metadata": {},
     "output_type": "display_data"
    }
   ],
   "source": [
    "accuracy = {\n",
    "    'naive':acc_naive,\n",
    "    'svc':acc_svc,\n",
    "    'logistic':acc_log\n",
    "}\n",
    "\n",
    "sns.set_style('darkgrid')\n",
    "plt.plot(accuracy.keys(),accuracy.values(),color='blue',markeredgecolor='red',marker='*',markeredgewidth=4)\n",
    "plt.ylim(0.9,1.0)"
   ]
  },
  {
   "cell_type": "markdown",
   "metadata": {
    "papermill": {
     "duration": 0.033314,
     "end_time": "2021-06-22T19:56:18.986490",
     "exception": false,
     "start_time": "2021-06-22T19:56:18.953176",
     "status": "completed"
    },
    "tags": []
   },
   "source": [
    "**As we can see in the above graph, Linear SVC model performed better then other models**"
   ]
  },
  {
   "cell_type": "markdown",
   "metadata": {
    "papermill": {
     "duration": 0.033281,
     "end_time": "2021-06-22T19:56:19.053351",
     "exception": false,
     "start_time": "2021-06-22T19:56:19.020070",
     "status": "completed"
    },
    "tags": []
   },
   "source": [
    "**Let's  check the Cross_Validation_Score for Linear SVC**"
   ]
  },
  {
   "cell_type": "code",
   "execution_count": 31,
   "metadata": {
    "execution": {
     "iopub.execute_input": "2021-06-22T19:56:19.122888Z",
     "iopub.status.busy": "2021-06-22T19:56:19.122318Z",
     "iopub.status.idle": "2021-06-22T19:56:20.238888Z",
     "shell.execute_reply": "2021-06-22T19:56:20.239344Z",
     "shell.execute_reply.started": "2021-06-22T19:52:33.096045Z"
    },
    "papermill": {
     "duration": 1.152847,
     "end_time": "2021-06-22T19:56:20.239520",
     "exception": false,
     "start_time": "2021-06-22T19:56:19.086673",
     "status": "completed"
    },
    "tags": []
   },
   "outputs": [],
   "source": [
    "from sklearn.model_selection import cross_val_score\n",
    "\n",
    "# svc is the Pipeline model we created above using LinearSVC\n",
    "score = cross_val_score(svc,X,encoded_y,cv=15)"
   ]
  },
  {
   "cell_type": "code",
   "execution_count": 32,
   "metadata": {
    "execution": {
     "iopub.execute_input": "2021-06-22T19:56:20.309181Z",
     "iopub.status.busy": "2021-06-22T19:56:20.308677Z",
     "iopub.status.idle": "2021-06-22T19:56:20.312677Z",
     "shell.execute_reply": "2021-06-22T19:56:20.313075Z",
     "shell.execute_reply.started": "2021-06-22T19:52:59.282840Z"
    },
    "papermill": {
     "duration": 0.039945,
     "end_time": "2021-06-22T19:56:20.313216",
     "exception": false,
     "start_time": "2021-06-22T19:56:20.273271",
     "status": "completed"
    },
    "tags": []
   },
   "outputs": [
    {
     "name": "stdout",
     "output_type": "stream",
     "text": [
      "[0.99193548 0.9811828  0.9811828  0.99193548 0.98387097 0.98387097\n",
      " 0.98655914 0.98382749 0.98921833 0.98921833 0.98382749 0.97843666\n",
      " 0.98382749 0.97843666 0.98113208]\n"
     ]
    }
   ],
   "source": [
    "# Lets check the socre fro all 15 experiment\n",
    "print(score)"
   ]
  },
  {
   "cell_type": "code",
   "execution_count": 33,
   "metadata": {
    "execution": {
     "iopub.execute_input": "2021-06-22T19:56:20.382662Z",
     "iopub.status.busy": "2021-06-22T19:56:20.382169Z",
     "iopub.status.idle": "2021-06-22T19:56:20.386790Z",
     "shell.execute_reply": "2021-06-22T19:56:20.386387Z",
     "shell.execute_reply.started": "2021-06-22T19:54:20.373695Z"
    },
    "papermill": {
     "duration": 0.04021,
     "end_time": "2021-06-22T19:56:20.386908",
     "exception": false,
     "start_time": "2021-06-22T19:56:20.346698",
     "status": "completed"
    },
    "tags": []
   },
   "outputs": [
    {
     "name": "stdout",
     "output_type": "stream",
     "text": [
      "The average score is 98.46\n"
     ]
    }
   ],
   "source": [
    "# Lets check the average score\n",
    "print(f\"The average score is {np.round(score.mean()*100,2)}\")"
   ]
  },
  {
   "cell_type": "code",
   "execution_count": 34,
   "metadata": {},
   "outputs": [],
   "source": [
    "# Lets save the linearsvc model for end to end deployment\n",
    "import pickle"
   ]
  },
  {
   "cell_type": "code",
   "execution_count": 35,
   "metadata": {},
   "outputs": [],
   "source": [
    "pickle.dump(svc,open('sms.pkl','wb'))"
   ]
  },
  {
   "cell_type": "code",
   "execution_count": null,
   "metadata": {},
   "outputs": [],
   "source": []
  },
  {
   "cell_type": "markdown",
   "metadata": {
    "papermill": {
     "duration": 0.033728,
     "end_time": "2021-06-22T19:56:20.454535",
     "exception": false,
     "start_time": "2021-06-22T19:56:20.420807",
     "status": "completed"
    },
    "tags": []
   },
   "source": [
    "# Thank You"
   ]
  },
  {
   "cell_type": "code",
   "execution_count": null,
   "metadata": {
    "papermill": {
     "duration": 0.033801,
     "end_time": "2021-06-22T19:56:20.522538",
     "exception": false,
     "start_time": "2021-06-22T19:56:20.488737",
     "status": "completed"
    },
    "tags": []
   },
   "outputs": [],
   "source": []
  }
 ],
 "metadata": {
  "kernelspec": {
   "display_name": "Python 3",
   "language": "python",
   "name": "python3"
  },
  "language_info": {
   "codemirror_mode": {
    "name": "ipython",
    "version": 3
   },
   "file_extension": ".py",
   "mimetype": "text/x-python",
   "name": "python",
   "nbconvert_exporter": "python",
   "pygments_lexer": "ipython3",
   "version": "3.8.5"
  },
  "papermill": {
   "default_parameters": {},
   "duration": 25.327306,
   "end_time": "2021-06-22T19:56:21.265291",
   "environment_variables": {},
   "exception": null,
   "input_path": "__notebook__.ipynb",
   "output_path": "__notebook__.ipynb",
   "parameters": {},
   "start_time": "2021-06-22T19:55:55.937985",
   "version": "2.3.3"
  }
 },
 "nbformat": 4,
 "nbformat_minor": 5
}
